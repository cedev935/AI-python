{
 "cells": [
  {
   "cell_type": "code",
   "execution_count": null,
   "id": "e42c6353",
   "metadata": {},
   "outputs": [],
   "source": [
    "from os import getenv\n",
    "\n",
    "import pandas as pd\n",
    "\n",
    "import shimoku_api_python as Shimoku\n",
    "from typing import List, Dict\n",
    "import datetime as dt\n",
    "import numpy as np\n",
    "import random\n",
    "import asyncio\n",
    "import time\n",
    "import math"
   ]
  },
  {
   "cell_type": "code",
   "execution_count": null,
   "id": "d4184578",
   "metadata": {},
   "outputs": [],
   "source": [
    "universe_id: str = getenv('UNIVERSE_ID')\n",
    "business_id: str = getenv('BUSINESS_ID')\n",
    "environment: str = getenv('ENVIRONMENT')\n",
    "access_token: str = getenv('API_TOKEN')\n",
    "\n",
    "initial_time = time.time()\n",
    "s = Shimoku.Client(\n",
    "    access_token=access_token,\n",
    "    universe_id=universe_id,\n",
    "    environment=environment,\n",
    "    business_id=business_id,\n",
    "    verbosity='INFO',\n",
    "    async_execution=True,\n",
    ")"
   ]
  },
  {
   "cell_type": "markdown",
   "id": "2f046e10",
   "metadata": {},
   "source": [
    "# Configure logging"
   ]
  },
  {
   "cell_type": "code",
   "execution_count": null,
   "id": "cc02d577",
   "metadata": {},
   "outputs": [],
   "source": [
    "s.configure_logging('DEBUG')"
   ]
  },
  {
   "cell_type": "markdown",
   "id": "3a5b1644",
   "metadata": {},
   "source": [
    "# Clear business "
   ]
  },
  {
   "cell_type": "code",
   "execution_count": null,
   "id": "147e53f4",
   "metadata": {},
   "outputs": [],
   "source": [
    "s.plt.clear_business()"
   ]
  },
  {
   "cell_type": "markdown",
   "id": "0d67c545",
   "metadata": {},
   "source": [
    "# Indicators test"
   ]
  },
  {
   "cell_type": "code",
   "execution_count": null,
   "id": "d2134e92",
   "metadata": {},
   "outputs": [],
   "source": [
    "menu_path: str = 'test-indicators/indicator-test'\n",
    "data_ = [\n",
    "    {\n",
    "        \"footer\": \"\",\n",
    "        \"header\": \"Estado\",\n",
    "        \"val\": \"Abierto\",\n",
    "        \"alignment\": \"center\",\n",
    "    },\n",
    "    {\n",
    "        \"footer\": \"\",\n",
    "        \"header\": \"Price ($)\",\n",
    "        \"val\": \"455\",\n",
    "        \"col\": \"success\",\n",
    "    },\n",
    "    {\n",
    "        \"footer\": \"this is a description\",\n",
    "        \"header\": \"Volumen\",\n",
    "        \"val\": \"41153\"\n",
    "    },\n",
    "    {\n",
    "        \"footer\": \"\",\n",
    "        \"header\": \"Cambio €/$\",\n",
    "        \"val\": \"1.1946\",\n",
    "    },\n",
    "]\n",
    "order = s.plt.indicator(\n",
    "    data=data_,\n",
    "    menu_path=menu_path,\n",
    "    order=0,\n",
    "    value='val',\n",
    "    header='header',\n",
    "    footer='footer',\n",
    "    align='alignment',\n",
    "    color='col'\n",
    ")\n",
    "order = s.plt.indicator(\n",
    "    data=data_ + data_[2:],\n",
    "    menu_path=menu_path,\n",
    "    order=order,\n",
    "    value='val',\n",
    "    header='header',\n",
    "    footer='footer',\n",
    "    align='alignment',\n",
    "    color='col'\n",
    ")"
   ]
  },
  {
   "cell_type": "markdown",
   "id": "17f89c3e",
   "metadata": {},
   "source": [
    "# Multifilter bars"
   ]
  },
  {
   "cell_type": "code",
   "execution_count": null,
   "id": "63ac134f",
   "metadata": {},
   "outputs": [],
   "source": [
    "data_ = pd.read_csv('../data/test_multifilter.csv')\n",
    "menu_path = 'test/multifilter-test'\n",
    "y: List[str] = [\n",
    "    'Acné', 'Adeslas', 'Asisa',\n",
    "    'Aspy', 'Caser', 'Clínica Navarra', 'Cualtis', 'Cáncer', 'DKV',\n",
    "    'Depresión', 'Dermatólogo', 'Dermatólogo Adeslas', 'Diabetes',\n",
    "    'Fundación Jiménez Díaz', 'Ginecólogo', 'Ginecólogo Adeslas',\n",
    "    'HM Hospitales', 'Hemorroides', 'IMQ', 'Preving', 'Psicólogo',\n",
    "    'Psiquiatra', 'Quirón', 'Quirón Prevención + quirónprevención',\n",
    "    'Quirón+Quirónsalud', 'Quirónsalud', 'Ruber', 'Ruber Internacional',\n",
    "    'Ruber Juan Bravo', 'Sanitas', 'Teknon', 'Traumatólogo', 'Vithas'\n",
    "]\n",
    "\n",
    "data_1 = data_[data_['seccion'].isin(['Empresas hospitalarias', 'Empresas PRL'])]\n",
    "\n",
    "filters: Dict = {\n",
    "    'order': 0,\n",
    "    'filter_cols': [\n",
    "        'seccion', 'frecuencia', 'region',\n",
    "    ],\n",
    "}\n",
    "s.plt.bar(\n",
    "    data=data_1,\n",
    "    x='fecha', y=y,\n",
    "    menu_path=f'{menu_path}-bysize',\n",
    "    order=1, rows_size=2,\n",
    "    cols_size=12,\n",
    "    filters=filters,\n",
    ")"
   ]
  },
  {
   "cell_type": "markdown",
   "id": "bf639f16",
   "metadata": {},
   "source": [
    "# Get apps and reports"
   ]
  },
  {
   "cell_type": "code",
   "execution_count": null,
   "id": "fb0c209f",
   "metadata": {},
   "outputs": [],
   "source": [
    "for report in s.business.get_business_reports(business_id):\n",
    "    print(report)\n",
    "\n",
    "for app in s.business.get_business_apps(business_id):\n",
    "    print(app)"
   ]
  },
  {
   "cell_type": "markdown",
   "id": "329ab7b3",
   "metadata": {},
   "source": [
    "# Executing the task pool"
   ]
  },
  {
   "cell_type": "code",
   "execution_count": null,
   "id": "b16e5b64",
   "metadata": {
    "scrolled": true
   },
   "outputs": [],
   "source": [
    "s.run()"
   ]
  }
 ],
 "metadata": {
  "kernelspec": {
   "display_name": "Python 3 (ipykernel)",
   "language": "python",
   "name": "python3"
  },
  "language_info": {
   "codemirror_mode": {
    "name": "ipython",
    "version": 3
   },
   "file_extension": ".py",
   "mimetype": "text/x-python",
   "name": "python",
   "nbconvert_exporter": "python",
   "pygments_lexer": "ipython3",
   "version": "3.10.4"
  }
 },
 "nbformat": 4,
 "nbformat_minor": 5
}
